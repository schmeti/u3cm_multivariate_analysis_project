{
 "cells": [
  {
   "cell_type": "code",
   "execution_count": null,
   "metadata": {},
   "outputs": [],
   "source": [
    "### import libraries\n",
    "\n",
    "# format\n",
    "import pandas as pd\n",
    "\n",
    "# plot\n",
    "import matplotlib.pyplot as plt\n",
    "import seaborn as sns\n",
    "\n",
    "# math\n",
    "import numpy as np\n",
    "import math\n",
    "from scipy.linalg import inv, det\n",
    "from numpy.linalg import eig\n",
    "\n",
    "from scipy import stats\n"
   ]
  },
  {
   "cell_type": "code",
   "execution_count": null,
   "metadata": {},
   "outputs": [],
   "source": [
    "\n",
    "data_raw = pd.read_csv(\"Sleep_health_and_lifestyle_dataset.csv\")\n",
    "data_raw.head()"
   ]
  },
  {
   "cell_type": "code",
   "execution_count": null,
   "metadata": {},
   "outputs": [],
   "source": [
    "### Preprocess Data\n",
    "data = data_raw.copy()\n",
    "\n",
    "rename_dict = {\n",
    "    'Person ID':'person_id',\n",
    "    'Gender': 'gender',\n",
    "    'Age':'age',\n",
    "    'Occupation':'occupation',\n",
    "    'Sleep Duration':'sleep_duration',\n",
    "    'Quality of Sleep':'quality_of_sleep',\n",
    "    'Physical Activity Level':'physical_activity_level',\n",
    "    'Stress Level':'stress_level',\n",
    "    'BMI Category':'bmi_category', \n",
    "    'Blood Pressure':'blood_pressure', \n",
    "    'Heart Rate':'heart_rate', \n",
    "    'Daily Steps':'daily_steps',\n",
    "    'Sleep Disorder':'sleep_disorder' \n",
    "}\n",
    "\n",
    "data.rename(columns=rename_dict, inplace=True)\n",
    "\n",
    "#sleep quality categorical,stress level bmi sleep disorder change to 1 to 0 if there's any sleep issue\n",
    "\n",
    "data['quality_of_sleep'] = data['quality_of_sleep'].astype(str)\n",
    "data['stress_level'] = data['stress_level'].astype(str)\n",
    "data['sleep_issue'] = data['sleep_disorder'].map(lambda x: '1' if x in ['Insomnia','Sleep Apnea'] else '0').astype(str)\n",
    "data[[\"blood_pressure_systolic\",\"blood_pressure_diastolic\"]] = data[\"blood_pressure\"].str.split('/',expand=True)\n",
    "data[\"blood_pressure_diastolic\"] = pd.to_numeric(data['blood_pressure_diastolic'])\n",
    "data[\"blood_pressure_systolic\"] = pd.to_numeric(data[\"blood_pressure_systolic\"])\n",
    "\n",
    "\n",
    "data.info()"
   ]
  },
  {
   "cell_type": "code",
   "execution_count": null,
   "metadata": {},
   "outputs": [],
   "source": [
    "data.columns"
   ]
  },
  {
   "cell_type": "code",
   "execution_count": null,
   "metadata": {},
   "outputs": [],
   "source": [
    "numeric_variables = ['age','sleep_duration','physical_activity_level','heart_rate','daily_steps','blood_pressure_systolic','blood_pressure_diastolic']\n",
    "categorical_variable = ['gender','occupation','quality_of_sleep','stress_level','bmi_category','sleep_issue']"
   ]
  },
  {
   "cell_type": "code",
   "execution_count": null,
   "metadata": {},
   "outputs": [],
   "source": [
    "# pairplot\n",
    "sns.pairplot(data[numeric_variables], diag_kind='kde', corner=True)\n",
    "plt.show()"
   ]
  },
  {
   "cell_type": "code",
   "execution_count": null,
   "metadata": {},
   "outputs": [],
   "source": [
    "corr_mat = data[numeric_variables].corr()\n",
    "plt.figure(figsize=(8, 6))  # Adjust the figure size as needed\n",
    "sns.heatmap(corr_mat, annot=True, cmap='coolwarm', vmin=-1, vmax=1, center=0, square=True, linewidths=0.5)\n",
    "plt.title('Correlation Plot')\n",
    "plt.show()"
   ]
  },
  {
   "cell_type": "code",
   "execution_count": null,
   "metadata": {},
   "outputs": [],
   "source": [
    "\n",
    "fig, axs = plt.subplots(4,2, figsize=(12, 14))\n",
    "axs[0,0].hist(data['age'],density=True,alpha=0.6,color='b',edgecolor=\"black\")\n",
    "axs[0,0].set_title(\"Hist of Age\")\n",
    "axs[0,1].hist(data['sleep_duration'],density=True,alpha=0.6,color='b',edgecolor=\"black\")\n",
    "axs[0,1].set_title(\"Hist of Sleep Duration\")\n",
    "axs[1,0].hist(data['physical_activity_level'],density=True,alpha=0.6,color='b',edgecolor=\"black\")\n",
    "axs[1,0].set_title(\"Hist of Physical Activity Level\")\n",
    "axs[1,1].hist(data['heart_rate'],bins=10,density=True,alpha=0.6,color='b',edgecolor=\"black\")\n",
    "axs[1,1].set_title(\"Hist of Heart Rate\")\n",
    "axs[2,0].hist(data['heart_rate'],density=True,alpha=0.6,color='b',edgecolor=\"black\")\n",
    "axs[2,0].set_title(\"Hist of Daily Steps\")\n",
    "axs[2,1].hist(data['blood_pressure_systolic'],density=True,alpha=0.6,color='b',edgecolor=\"black\")\n",
    "axs[2,1].set_title(\"Hist of Blood pressure systolic\")\n",
    "axs[3,0].hist(data['blood_pressure_diastolic'],density=True,alpha=0.6,color='b',edgecolor=\"black\")\n",
    "axs[3,0].set_title(\"Hist of Blood pressure diastolic\")\n",
    "axs[3,1].axis(\"off\")\n",
    "plt.tight_layout(pad=2.0)"
   ]
  },
  {
   "cell_type": "code",
   "execution_count": null,
   "metadata": {},
   "outputs": [],
   "source": [
    "\n",
    "fig, axs = plt.subplots(4,2, figsize=(12, 14))\n",
    "axs[0,0].boxplot(data['age'],vert=True, patch_artist=True,medianprops=dict(color=\"black\"))\n",
    "axs[0,0].set_title(\"Hist of Age\")\n",
    "axs[0,1].boxplot(data['sleep_duration'],vert=True, patch_artist=True,medianprops=dict(color=\"black\"))\n",
    "axs[0,1].set_title(\"Hist of Sleep Duration\")\n",
    "axs[1,0].boxplot(data['physical_activity_level'],vert=True, patch_artist=True,medianprops=dict(color=\"black\"))\n",
    "axs[1,0].set_title(\"Hist of Physical Activity Level\")\n",
    "axs[1,1].boxplot(data['heart_rate'],vert=True, patch_artist=True,medianprops=dict(color=\"black\"))\n",
    "axs[1,1].set_title(\"Hist of Heart Rate\")\n",
    "axs[2,0].boxplot(data['heart_rate'],vert=True, patch_artist=True,medianprops=dict(color=\"black\"))\n",
    "axs[2,0].set_title(\"Hist of Daily Steps\")\n",
    "axs[2,1].boxplot(data['blood_pressure_systolic'],vert=True, patch_artist=True,medianprops=dict(color=\"black\"))\n",
    "axs[2,1].set_title(\"Hist of Blood pressure systolic\")\n",
    "axs[3,0].boxplot(data['blood_pressure_diastolic'],vert=True, patch_artist=True,medianprops=dict(color=\"black\"))\n",
    "axs[3,0].set_title(\"Hist of Blood pressure diastolic\")\n",
    "axs[3,1].axis(\"off\")\n",
    "plt.tight_layout(pad=2.0)"
   ]
  },
  {
   "cell_type": "code",
   "execution_count": null,
   "metadata": {},
   "outputs": [],
   "source": [
    "for i in numeric_variables:\n",
    "    aux_skew = stats.skew(data[i])\n",
    "    print(f\"Skewness of {i} : {aux_skew}\")"
   ]
  },
  {
   "cell_type": "code",
   "execution_count": null,
   "metadata": {},
   "outputs": [],
   "source": [
    "### Statistical Analysis & intercorrelation\n",
    "\n",
    "means = data[numeric_variables].mean()\n",
    "variances = data[numeric_variables].var()\n",
    "df_covariance_matrix = data[numeric_variables].cov()\n",
    "df_correlation_matrix = data[numeric_variables].corr()\n",
    "\n",
    "def intercorrelations(X):\n",
    "    n, p = X.shape\n",
    "    R = np.corrcoef(X, rowvar=False)\n",
    "    lambda_vals, _ = eig(R)\n",
    "    rjj = np.diag(inv(R))\n",
    "    q = np.zeros(6)\n",
    "    q[0] = (1 - min(lambda_vals) / max(lambda_vals)) ** (p + 2)\n",
    "    q[1] = 1 - p / np.sum(1. / lambda_vals)\n",
    "    q[2] = 1 - np.sqrt(det(R))\n",
    "    q[3] = (max(lambda_vals) / p) ** (3 / 2)\n",
    "    q[4] = (1 - min(lambda_vals) / p) ** 5\n",
    "    q[5] = np.sum((1 - 1. / rjj) / p)\n",
    "    \n",
    "    # print\n",
    "    print(q)\n",
    "\n",
    "    # plot\n",
    "    plt.plot(range(1, 7), q, marker='o', linestyle='-', color='b', label='Intercorrelations')\n",
    "    plt.xlabel(\"intercorrelation metric\")\n",
    "    plt.ylabel(\"intercorrelation score\")\n",
    "    return None\n",
    "\n",
    "\n",
    "intercorrelations(data[numeric_variables])"
   ]
  },
  {
   "cell_type": "code",
   "execution_count": null,
   "metadata": {},
   "outputs": [],
   "source": [
    "# Function for plotting of conditional histograms \n",
    "def plot_categorical_hist(ncols,\n",
    "                          numeric_variables,\n",
    "                          categorical_variable,\n",
    "                          host_stat='count',\n",
    "                          figsize=(12, 10)\n",
    "                          ):\n",
    "    \n",
    "    nrows = math.ceil(len(numeric_variables)/ncols)\n",
    "    fig, axes = plt.subplots(nrows, ncols, figsize=figsize)\n",
    "    for i, col in enumerate(numeric_variables):\n",
    "        row = i // 2 \n",
    "        col_pos = i % 2 \n",
    "        sns.histplot(data=data, x=col, bins=10,hue=categorical_variable, kde=True, ax=axes[row, col_pos],stat=host_stat)\n",
    "        axes[row, col_pos].set_title(f'Distribution of {col}')\n",
    "\n",
    "    # Adjust layout for better spacing\n",
    "    plt.tight_layout()\n",
    "    plt.show()"
   ]
  },
  {
   "cell_type": "code",
   "execution_count": null,
   "metadata": {},
   "outputs": [],
   "source": [
    "# TODO: Select relevant ones \n",
    "for categorical_variable in categorical_variables:\n",
    "    print(categorical_variable)\n",
    "    plot_categorical_hist(ncols=2,\n",
    "                        numeric_variables=numeric_variables,#['calories_burned','session_duration_hrs','fat_percentage','avg_bpm'],\n",
    "                        categorical_variable=categorical_variable,\n",
    "                        host_stat='probability',\n",
    "                        figsize=(12, 20))"
   ]
  },
  {
   "cell_type": "code",
   "execution_count": null,
   "metadata": {},
   "outputs": [],
   "source": []
  }
 ],
 "metadata": {
  "kernelspec": {
   "display_name": "pyomo_env",
   "language": "python",
   "name": "python3"
  },
  "language_info": {
   "codemirror_mode": {
    "name": "ipython",
    "version": 3
   },
   "file_extension": ".py",
   "mimetype": "text/x-python",
   "name": "python",
   "nbconvert_exporter": "python",
   "pygments_lexer": "ipython3",
   "version": "3.11.10"
  }
 },
 "nbformat": 4,
 "nbformat_minor": 2
}
