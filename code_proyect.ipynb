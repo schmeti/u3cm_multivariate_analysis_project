{
 "cells": [
  {
   "cell_type": "code",
   "execution_count": null,
   "metadata": {},
   "outputs": [],
   "source": [
    "import pandas as pd\n",
    "import numpy as np\n",
    "import matplotlib.pyplot as plt\n",
    "import seaborn as sns\n"
   ]
  },
  {
   "cell_type": "code",
   "execution_count": null,
   "metadata": {},
   "outputs": [],
   "source": [
    "# Import Data\n",
    "data_raw = pd.read_csv(\"gym_members_exercise_tracking.csv\")\n",
    "data_raw.info()\n",
    "data_raw.head()"
   ]
  },
  {
   "cell_type": "code",
   "execution_count": null,
   "metadata": {},
   "outputs": [],
   "source": [
    "### Preprocess Data\n",
    "data = data_raw.copy()\n",
    "\n",
    "# dtypes\n",
    "data['Experience_Level'] = data['Experience_Level'].astype(str)\n",
    "data['Workout_Frequency (days/week)'] = data['Workout_Frequency (days/week)'].astype(str)\n",
    "\n",
    "# Make water intake binary\n",
    "data['Water_intake_binary'] = (data['Water_Intake (liters)'] > 2).astype(int)\n",
    "data.drop(columns=[\"Water_Intake (liters)\"],inplace=True)\n",
    "\n",
    "# change column names and make column names lower case\n",
    "data.columns = ['Age','Gender','Weight_kg','Height_m','Max_BPM','Avg_BPM','Resting_BPM','Session_Duration_hrs','Calories_Burned','Workout_Type','Fat_Percentage','Water_Intake_lts','Workout_Frequency_days_per_week','Experience_Level','BMI']\n",
    "data.columns = map(str.lower, data.columns)\n",
    "\n",
    "# print\n",
    "data.info()"
   ]
  },
  {
   "cell_type": "code",
   "execution_count": null,
   "metadata": {},
   "outputs": [],
   "source": [
    "numeric_variables = ['age','weight_kg','height_m','max_bpm','avg_bpm','resting_bpm','session_duration_hrs','calories_burned','fat_percentage']"
   ]
  },
  {
   "cell_type": "code",
   "execution_count": null,
   "metadata": {},
   "outputs": [],
   "source": [
    "sns.pairplot(data[numeric_variables], diag_kind='kde', corner=True)\n",
    "plt.show()"
   ]
  },
  {
   "cell_type": "code",
   "execution_count": null,
   "metadata": {},
   "outputs": [],
   "source": [
    "corr_mat = data[numeric_variables].corr()\n",
    "plt.figure(figsize=(8, 6))  # Adjust the figure size as needed\n",
    "sns.heatmap(corr_mat, annot=True, cmap='coolwarm', vmin=-1, vmax=1, center=0, square=True, linewidths=0.5)\n",
    "plt.title('Correlation Plot')\n",
    "plt.show()"
   ]
  },
  {
   "cell_type": "code",
   "execution_count": null,
   "metadata": {},
   "outputs": [],
   "source": [
    "fig, axs = plt.subplots(5,2, figsize=(12, 14))\n",
    "axs[0,0].hist(data['age'],density=True,alpha=0.6,color='b',edgecolor=\"black\")\n",
    "axs[0,0].set_title(\"Hist of Age\")\n",
    "axs[0,1].hist(data['weight_kg'],density=True,alpha=0.6,color='b',edgecolor=\"black\")\n",
    "axs[0,1].set_title(\"Hist of Weight (kg)\")\n",
    "axs[1,0].hist(data['height_m'],density=True,alpha=0.6,color='b',edgecolor=\"black\")\n",
    "axs[1,0].set_title(\"Hist of Height (m)\")\n",
    "axs[1,1].hist(data['fat_percentage'],bins=10,density=True,alpha=0.6,color='b',edgecolor=\"black\")\n",
    "axs[1,1].set_title(\"Hist Fat Percentage\")\n",
    "axs[2,0].hist(data['session_duration_hrs'],density=True,alpha=0.6,color='b',edgecolor=\"black\")\n",
    "axs[2,0].set_title(\"Hist of Session duration hrs\")\n",
    "axs[2,1].hist(data['max_bpm'],density=True,alpha=0.6,color='b',edgecolor=\"black\")\n",
    "axs[2,1].set_title(\"Hist of Max BPM\")\n",
    "axs[3,0].hist(data['avg_bpm'],density=True,alpha=0.6,color='b',edgecolor=\"black\")\n",
    "axs[3,0].set_title(\"Hist of Avg. BPM\")\n",
    "axs[3,1].hist(data['resting_bpm'],density=True,alpha=0.6,color='b',edgecolor=\"black\")\n",
    "axs[3,1].set_title(\"Hist of Resting BPM\")\n",
    "axs[4,0].hist(data['calories_burned'],density=True,alpha=0.6,color='b',edgecolor=\"black\")\n",
    "axs[4,0].set_title(\"Hist of Calories Burned\")\n",
    "axs[4,1].axis(\"off\")\n",
    "plt.tight_layout(pad=2.0)\n"
   ]
  }
 ],
 "metadata": {
  "kernelspec": {
   "display_name": "pyomo_env",
   "language": "python",
   "name": "python3"
  },
  "language_info": {
   "codemirror_mode": {
    "name": "ipython",
    "version": 3
   },
   "file_extension": ".py",
   "mimetype": "text/x-python",
   "name": "python",
   "nbconvert_exporter": "python",
   "pygments_lexer": "ipython3",
   "version": "3.11.10"
  }
 },
 "nbformat": 4,
 "nbformat_minor": 2
}
