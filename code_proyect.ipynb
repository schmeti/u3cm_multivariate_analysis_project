{
 "cells": [
  {
   "cell_type": "code",
   "execution_count": null,
   "metadata": {},
   "outputs": [],
   "source": [
    "### import libraries\n",
    "\n",
    "# format\n",
    "import pandas as pd\n",
    "\n",
    "# plot\n",
    "import matplotlib.pyplot as plt\n",
    "import seaborn as sns\n",
    "\n",
    "# math\n",
    "import numpy as np\n",
    "import math\n",
    "from scipy.linalg import inv, det\n",
    "from numpy.linalg import eig\n",
    "\n",
    "from scipy import stats"
   ]
  },
  {
   "cell_type": "markdown",
   "metadata": {},
   "source": [
    "# Introduction\n",
    "The following project documentation was written as work assignment for the module \"Multivariate Analysis\" of the Master in Statistics for Data Science at the Universidad Carlos III de Madrid. It contains the Multivariate Analysis of a Kaggel dataset on physical (gym) excercise data (https://www.kaggle.com/datasets/valakhorasani/gym-members-exercise-dataset). The work is split into to parts, where in a first part a exploratory data analysis is performed, where required,  data preprocessing steps are performed and a Prinicipal Component Analysis (PCA) is performed. In the second part, based on the learnings of part one, a (XXXXXXXXXXX) is performed to (XXXXXXXXX). "
   ]
  },
  {
   "cell_type": "markdown",
   "metadata": {},
   "source": [
    "# Part 1 - Exploratory Analysis, Preprossesing and PCA\n",
    "As discussed in the introduction, the first part contains the initial exploratory analysis of the dataset as well as a PCA of the dataset. The dataset at hand is composed out of the following collumns: \n",
    "\n",
    "| Attribute                      | Description                                                       |\n",
    "|--------------------------------|-------------------------------------------------------------------|\n",
    "| Age                            | Age of the gym member.                                            |\n",
    "| Gender                         | Gender of the gym member (Male or Female).                        |\n",
    "| Weight (kg)                    | Member’s weight in kilograms.                                     |\n",
    "| Height (m)                     | Member’s height in meters.                                        |\n",
    "| Max_BPM                        | Maximum heart rate (beats per minute) during workout sessions.    |\n",
    "| Avg_BPM                        | Average heart rate during workout sessions.                       |\n",
    "| Resting_BPM                    | Heart rate at rest before workout.                                |\n",
    "| Session_Duration (hours)       | Duration of each workout session in hours.                        |\n",
    "| Calories_Burned                | Total calories burned during each session.                        |\n",
    "| Workout_Type                   | Type of workout performed (e.g., Cardio, Strength, Yoga, HIIT).   |\n",
    "| Fat_Percentage                 | Body fat percentage of the member.                                |\n",
    "| Water_Intake (liters)          | Daily water intake during workouts.                               |\n",
    "| Workout_Frequency (days/week)  | Number of workout sessions per week.                              |\n",
    "| Experience_Level               | Level of experience, from beginner (1) to expert (3).             |\n",
    "| BMI                            | Body Mass Index, calculated from height and weight.               |\n",
    "\n",
    "And before starting with the exploratory data analysis, few basic data formatting steps are performed like modifying data types, features names and turning the water intake feature from a continious variable to a binary variable (<2 liters:0,>=2:1) to comply with the assignments requirements."
   ]
  },
  {
   "cell_type": "code",
   "execution_count": null,
   "metadata": {},
   "outputs": [],
   "source": [
    "# Import Data\n",
    "data_raw = pd.read_csv(\"cities.csv\")\n",
    "data_raw.info()\n",
    "data_raw.head()"
   ]
  },
  {
   "cell_type": "code",
   "execution_count": null,
   "metadata": {},
   "outputs": [],
   "source": [
    "# ### Preprocess Data\n",
    "# data = data_raw.copy()\n",
    "\n",
    "# # dtypes\n",
    "# data['Experience_Level'] = data['Experience_Level'].astype(str)\n",
    "# data['Workout_Frequency (days/week)'] = data['Workout_Frequency (days/week)'].astype(str)\n",
    "\n",
    "# # Make water intake binary\n",
    "# data['Water_intake_binary'] = (data['Water_Intake (liters)'] > 2).astype(int)\n",
    "# data.drop(columns=[\"Water_Intake (liters)\"],inplace=True)\n",
    "\n",
    "# # change column names and make column names lower case\n",
    "# rename_dict = {\n",
    "#     'Age': 'Age',\n",
    "#     'Gender': 'Gender',\n",
    "#     'Weight (kg)': 'Weight_kg',\n",
    "#     'Height (m)': 'Height_m',\n",
    "#     'Max_BPM': 'Max_BPM',\n",
    "#     'Avg_BPM': 'Avg_BPM',\n",
    "#     'Resting_BPM': 'Resting_BPM',\n",
    "#     'Session_Duration (hours)': 'Session_Duration_hrs',\n",
    "#     'Calories_Burned': 'Calories_Burned',\n",
    "#     'Workout_Type': 'Workout_Type',\n",
    "#     'Fat_Percentage': 'Fat_Percentage',\n",
    "#     'Water_Intake (liters)': 'Water_Intake_lts',\n",
    "#     'Workout_Frequency (days/week)': 'Workout_Frequency_days_per_week',\n",
    "#     'Experience_Level': 'Experience_Level',\n",
    "#     'BMI': 'BMI'\n",
    "# }\n",
    "\n",
    "# data.rename(columns=rename_dict, inplace=True)\n",
    "\n",
    "\n",
    "# data.columns = map(str.lower, data.columns)\n",
    "\n",
    "# # print\n",
    "# data.info()"
   ]
  },
  {
   "cell_type": "code",
   "execution_count": null,
   "metadata": {},
   "outputs": [],
   "source": [
    "data_raw.columns"
   ]
  },
  {
   "cell_type": "code",
   "execution_count": null,
   "metadata": {},
   "outputs": [],
   "source": [
    "data = data_raw.copy()\n",
    "data.drop(columns=[\"Unnamed: 0\"],inplace=True)"
   ]
  },
  {
   "cell_type": "code",
   "execution_count": null,
   "metadata": {},
   "outputs": [],
   "source": [
    "data"
   ]
  },
  {
   "cell_type": "code",
   "execution_count": null,
   "metadata": {},
   "outputs": [],
   "source": [
    "# set up list of numeric var for plotting\n",
    "numeric_variables = ['Housing',\n",
    "       'Cost of Living', 'Startups', 'Venture Capital', 'Travel Connectivity',\n",
    "       'Commute', 'Business Freedom', 'Safety', 'Healthcare', 'Education',\n",
    "       'Environmental Quality', 'Economy', 'Taxation', 'Internet Access',\n",
    "       'Leisure & Culture', 'Tolerance', 'Outdoors']\n",
    "categorical_variables = ['UA_Name', 'UA_Country', 'UA_Continent']"
   ]
  },
  {
   "cell_type": "markdown",
   "metadata": {},
   "source": [
    "TODO: Pairplot interpretation"
   ]
  },
  {
   "cell_type": "code",
   "execution_count": null,
   "metadata": {},
   "outputs": [],
   "source": [
    "# pairplot\n",
    "sns.pairplot(data[numeric_variables], diag_kind='kde', corner=True)\n",
    "plt.show()"
   ]
  },
  {
   "cell_type": "markdown",
   "metadata": {},
   "source": [
    "TODO: Correlation Plot interpretation"
   ]
  },
  {
   "cell_type": "code",
   "execution_count": null,
   "metadata": {},
   "outputs": [],
   "source": [
    "corr_mat = data[numeric_variables].corr()\n",
    "plt.figure(figsize=(15, 12))  # Adjust the figure size as needed\n",
    "sns.heatmap(corr_mat, annot=True, cmap='coolwarm', vmin=-1, vmax=1, center=0, square=True, linewidths=0.5)\n",
    "plt.title('Correlation Plot')\n",
    "plt.show()"
   ]
  },
  {
   "cell_type": "code",
   "execution_count": null,
   "metadata": {},
   "outputs": [],
   "source": [
    "# # Histograms\n",
    "# fig, axs = plt.subplots(5,2, figsize=(12, 14))\n",
    "# axs[0,0].hist(data['age'],density=True,alpha=0.6,color='b',edgecolor=\"black\")\n",
    "# axs[0,0].set_title(\"Hist of Age\")\n",
    "# axs[0,1].hist(data['weight_kg'],density=True,alpha=0.6,color='b',edgecolor=\"black\")\n",
    "# axs[0,1].set_title(\"Hist of Weight (kg)\")\n",
    "# axs[1,0].hist(data['height_m'],density=True,alpha=0.6,color='b',edgecolor=\"black\")\n",
    "# axs[1,0].set_title(\"Hist of Height (m)\")\n",
    "# axs[1,1].hist(data['fat_percentage'],bins=10,density=True,alpha=0.6,color='b',edgecolor=\"black\")\n",
    "# axs[1,1].set_title(\"Hist Fat Percentage\")\n",
    "# axs[2,0].hist(data['session_duration_hrs'],density=True,alpha=0.6,color='b',edgecolor=\"black\")\n",
    "# axs[2,0].set_title(\"Hist of Session duration hrs\")\n",
    "# axs[2,1].hist(data['max_bpm'],density=True,alpha=0.6,color='b',edgecolor=\"black\")\n",
    "# axs[2,1].set_title(\"Hist of Max BPM\")\n",
    "# axs[3,0].hist(data['avg_bpm'],density=True,alpha=0.6,color='b',edgecolor=\"black\")\n",
    "# axs[3,0].set_title(\"Hist of Avg. BPM\")\n",
    "# axs[3,1].hist(data['resting_bpm'],density=True,alpha=0.6,color='b',edgecolor=\"black\")\n",
    "# axs[3,1].set_title(\"Hist of Resting BPM\")\n",
    "# axs[4,0].hist(data['calories_burned'],density=True,alpha=0.6,color='b',edgecolor=\"black\")\n",
    "# axs[4,0].set_title(\"Hist of Calories Burned\")\n",
    "# axs[4,1].axis(\"off\")\n",
    "# plt.tight_layout(pad=2.0)\n"
   ]
  },
  {
   "cell_type": "code",
   "execution_count": null,
   "metadata": {},
   "outputs": [],
   "source": [
    "# fig, axs = plt.subplots(5,2, figsize=(12, 14))\n",
    "# axs[0,0].boxplot(data['age'],vert=True, patch_artist=True,medianprops=dict(color=\"black\"))\n",
    "# axs[0,0].set_title(\"Boxplot of Age\")\n",
    "# axs[0,1].boxplot(data['weight_kg'],vert=True, patch_artist=True,medianprops=dict(color=\"black\"))\n",
    "# axs[0,1].set_title(\"Boxplot of Weight (kg)\")\n",
    "# axs[1,0].boxplot(data['height_m'],vert=True, patch_artist=True,medianprops=dict(color=\"black\"))\n",
    "# axs[1,0].set_title(\"Boxplot of Height (m)\")\n",
    "# axs[1,1].boxplot(data['fat_percentage'],vert=True, patch_artist=True,medianprops=dict(color=\"black\"))\n",
    "# axs[1,1].set_title(\"Boxplot Fat Percentage\")\n",
    "# axs[2,0].boxplot(data['session_duration_hrs'],vert=True, patch_artist=True,medianprops=dict(color=\"black\"))\n",
    "# axs[2,0].set_title(\"Boxplot of Session duration hrs\")\n",
    "# axs[2,1].boxplot(data['max_bpm'],vert=True, patch_artist=True,medianprops=dict(color=\"black\"))\n",
    "# axs[2,1].set_title(\"Boxplot of Max BPM\")\n",
    "# axs[3,0].boxplot(data['avg_bpm'],vert=True, patch_artist=True,medianprops=dict(color=\"black\"))\n",
    "# axs[3,0].set_title(\"Boxplot of Avg. BPM\")\n",
    "# axs[3,1].boxplot(data['resting_bpm'],vert=True, patch_artist=True,medianprops=dict(color=\"black\"))\n",
    "# axs[3,1].set_title(\"Boxplot of Resting BPM\")\n",
    "# axs[4,0].boxplot(data['calories_burned'],vert=True, patch_artist=True,medianprops=dict(color=\"black\"))\n",
    "# axs[4,0].set_title(\"Boxplot of Calories Burned\")\n",
    "# axs[4,1].axis(\"off\")\n",
    "# plt.tight_layout(pad=2.0)"
   ]
  },
  {
   "cell_type": "markdown",
   "metadata": {},
   "source": [
    "The Boxplot of Age and Session duration look very symmetric only by looking. The Height and the Fat % are both asymmetrics. The 3 about BPM looks kind of asymmetric. The boxplots Weight variables and the burned calories boths have outliers in them."
   ]
  },
  {
   "cell_type": "code",
   "execution_count": null,
   "metadata": {},
   "outputs": [],
   "source": [
    "for i in numeric_variables:\n",
    "    aux_skew = stats.skew(data[i])\n",
    "    print(f\"Skewness of {i} : {aux_skew}\")"
   ]
  },
  {
   "cell_type": "markdown",
   "metadata": {},
   "source": [
    "The mix between boxplot and skewness tell us the next thing about our variables: The Age, Max BPM, Avg. BPM, Resting BPM and session duration are all symmetric in the data. For Weight, Height and calorie burned are moderately swkewed. The 3 variables have a long tails on the right side. (The outliers that we detected in the boxplot.)"
   ]
  },
  {
   "cell_type": "code",
   "execution_count": null,
   "metadata": {},
   "outputs": [],
   "source": [
    "# Function for plotting of conditional histograms \n",
    "def plot_categorical_hist(ncols,\n",
    "                          numeric_variables,\n",
    "                          categorical_variable,\n",
    "                          host_stat='count',\n",
    "                          figsize=(12, 10)\n",
    "                          ):\n",
    "    \n",
    "    nrows = math.ceil(len(numeric_variables)/ncols)\n",
    "    fig, axes = plt.subplots(nrows, ncols, figsize=figsize)\n",
    "    for i, col in enumerate(numeric_variables):\n",
    "        row = i // 2 \n",
    "        col_pos = i % 2 \n",
    "        sns.histplot(data=data, x=col, bins=10,hue=categorical_variable, kde=True, ax=axes[row, col_pos],stat=host_stat)\n",
    "        axes[row, col_pos].set_title(f'Distribution of {col}')\n",
    "\n",
    "    # Adjust layout for better spacing\n",
    "    plt.tight_layout()\n",
    "    plt.show()"
   ]
  },
  {
   "cell_type": "code",
   "execution_count": null,
   "metadata": {},
   "outputs": [],
   "source": [
    "# TODO: Select relevant ones \n",
    "for categorical_variable in categorical_variables:\n",
    "    print(categorical_variable)\n",
    "    plot_categorical_hist(ncols=2,\n",
    "                        numeric_variables=numeric_variables,#['calories_burned','session_duration_hrs','fat_percentage','avg_bpm'],\n",
    "                        categorical_variable=categorical_variable,\n",
    "                        host_stat='probability',\n",
    "                        figsize=(12, 20))"
   ]
  },
  {
   "cell_type": "code",
   "execution_count": null,
   "metadata": {},
   "outputs": [],
   "source": [
    "### Relevant ones\n",
    "\n",
    "# gender -> hight and weight show differences but not relevant for analysis\n",
    "plot_categorical_hist(ncols=2,\n",
    "                      numeric_variables=['calories_burned','session_duration_hrs','fat_percentage','avg_bpm'],\n",
    "                      categorical_variable='gender',\n",
    "                      figsize=(12, 10))"
   ]
  },
  {
   "cell_type": "code",
   "execution_count": null,
   "metadata": {},
   "outputs": [],
   "source": [
    "### TODO: Pointplots"
   ]
  },
  {
   "cell_type": "code",
   "execution_count": null,
   "metadata": {},
   "outputs": [],
   "source": [
    "### Statistical Analysis & intercorrelation\n",
    "\n",
    "means = data[numeric_variables].mean()\n",
    "variances = data[numeric_variables].var()\n",
    "df_covariance_matrix = data[numeric_variables].cov()\n",
    "df_correlation_matrix = data[numeric_variables].corr()\n",
    "\n",
    "def intercorrelations(X):\n",
    "    n, p = X.shape\n",
    "    R = np.corrcoef(X, rowvar=False)\n",
    "    lambda_vals, _ = eig(R)\n",
    "    rjj = np.diag(inv(R))\n",
    "    q = np.zeros(6)\n",
    "    q[0] = (1 - min(lambda_vals) / max(lambda_vals)) ** (p + 2)\n",
    "    q[1] = 1 - p / np.sum(1. / lambda_vals)\n",
    "    q[2] = 1 - np.sqrt(det(R))\n",
    "    q[3] = (max(lambda_vals) / p) ** (3 / 2)\n",
    "    q[4] = (1 - min(lambda_vals) / p) ** 5\n",
    "    q[5] = np.sum((1 - 1. / rjj) / p)\n",
    "    \n",
    "    # print\n",
    "    print(q)\n",
    "\n",
    "    # plot\n",
    "    plt.plot(range(1, 7), q, marker='o', linestyle='-', color='b', label='Intercorrelations')\n",
    "    plt.xlabel(\"intercorrelation metric\")\n",
    "    plt.ylabel(\"intercorrelation score\")\n",
    "    return None\n",
    "\n",
    "\n",
    "intercorrelations(data[numeric_variables])"
   ]
  }
 ],
 "metadata": {
  "kernelspec": {
   "display_name": "Python 3",
   "language": "python",
   "name": "python3"
  },
  "language_info": {
   "codemirror_mode": {
    "name": "ipython",
    "version": 3
   },
   "file_extension": ".py",
   "mimetype": "text/x-python",
   "name": "python",
   "nbconvert_exporter": "python",
   "pygments_lexer": "ipython3",
   "version": "3.10.0"
  }
 },
 "nbformat": 4,
 "nbformat_minor": 2
}
