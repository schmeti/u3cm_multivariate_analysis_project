{
 "cells": [
  {
   "cell_type": "code",
   "execution_count": null,
   "metadata": {},
   "outputs": [],
   "source": [
    "import pandas as pd\n",
    "import numpy as np\n",
    "import matplotlib.pyplot as plt\n",
    "import seaborn as sns\n"
   ]
  },
  {
   "cell_type": "code",
   "execution_count": null,
   "metadata": {},
   "outputs": [],
   "source": [
    "# Import Data\n",
    "data_raw = pd.read_csv(\"gym_members_exercise_tracking.csv\")\n",
    "data_raw.info()\n",
    "data_raw.head()"
   ]
  },
  {
   "cell_type": "code",
   "execution_count": null,
   "metadata": {},
   "outputs": [],
   "source": [
    "### Preprocess Data\n",
    "data = data_raw.copy()\n",
    "\n",
    "# dtypes\n",
    "data['Experience_Level'] = data['Experience_Level'].astype(str)\n",
    "data['Workout_Frequency (days/week)'] = data['Workout_Frequency (days/week)'].astype(str)\n",
    "\n",
    "# Make water intake binary\n",
    "data['Water_intake_binary'] = (data['Water_Intake (liters)'] > 2).astype(int)\n",
    "data.drop(columns=[\"Water_Intake (liters)\"],inplace=True)\n",
    "\n",
    "# change column names and make column names lower case\n",
    "data.columns = ['Age','Gender','Weight_kg','Height_m','Max_BPM','Avg_BPM','Resting_BPM','Session_Duration_hrs','Calories_Burned','Workout_Type','Fat_Percentage','Water_Intake_lts','Workout_Frequency_days_per_week','Experience_Level','BMI']\n",
    "data.columns = map(str.lower, data.columns)\n",
    "\n",
    "# print\n",
    "data.info()"
   ]
  },
  {
   "cell_type": "code",
   "execution_count": null,
   "metadata": {},
   "outputs": [],
   "source": [
    "numeric_variables = ['age','weight_kg','height_m','max_bpm','avg_bpm','resting_bpm','session_duration_hrs','calories_burned','fat_percentage','water_intake_lts','bmi']"
   ]
  },
  {
   "cell_type": "code",
   "execution_count": null,
   "metadata": {},
   "outputs": [],
   "source": [
    "sns.pairplot(data[numeric_variables], diag_kind='kde', corner=True)\n",
    "plt.show()"
   ]
  },
  {
   "cell_type": "code",
   "execution_count": null,
   "metadata": {},
   "outputs": [],
   "source": [
    "corr_mat = data[numeric_variables].corr()\n",
    "plt.figure(figsize=(8, 6))  # Adjust the figure size as needed\n",
    "sns.heatmap(corr_mat, annot=True, cmap='coolwarm', vmin=-1, vmax=1, center=0, square=True, linewidths=0.5)\n",
    "plt.title('Correlation Plot')\n",
    "plt.show()"
   ]
  },
  {
   "cell_type": "code",
   "execution_count": null,
   "metadata": {},
   "outputs": [],
   "source": [
    "# TODO: All hist in one plot \n",
    "plt.hist(data['age'],density=True,alpha=0.6,color='b',edgecolor=\"black\")"
   ]
  },
  {
   "cell_type": "code",
   "execution_count": null,
   "metadata": {},
   "outputs": [],
   "source": [
    "plt.hist(data['weight_kg'],density=True,alpha=0.6,color='b',edgecolor=\"black\")"
   ]
  },
  {
   "cell_type": "code",
   "execution_count": null,
   "metadata": {},
   "outputs": [],
   "source": [
    "plt.hist(data['height_m'],density=True,alpha=0.6,color='b',edgecolor=\"black\")"
   ]
  },
  {
   "cell_type": "code",
   "execution_count": null,
   "metadata": {},
   "outputs": [],
   "source": [
    "plt.hist(data['fat_percentage'],density=True,alpha=0.6,color='b',edgecolor=\"black\")"
   ]
  },
  {
   "cell_type": "code",
   "execution_count": null,
   "metadata": {},
   "outputs": [],
   "source": [
    "plt.hist(data['water_intake_lts'],density=True,alpha=0.6,color='b',edgecolor=\"black\")"
   ]
  },
  {
   "cell_type": "code",
   "execution_count": null,
   "metadata": {},
   "outputs": [],
   "source": [
    "plt.hist(data['session_duration_hrs'],density=True,alpha=0.6,color='b',edgecolor=\"black\")"
   ]
  }
 ],
 "metadata": {
  "kernelspec": {
   "display_name": "Python 3",
   "language": "python",
   "name": "python3"
  },
  "language_info": {
   "codemirror_mode": {
    "name": "ipython",
    "version": 3
   },
   "file_extension": ".py",
   "mimetype": "text/x-python",
   "name": "python",
   "nbconvert_exporter": "python",
   "pygments_lexer": "ipython3",
   "version": "3.10.0"
  }
 },
 "nbformat": 4,
 "nbformat_minor": 2
}
