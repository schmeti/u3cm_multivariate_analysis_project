{
 "cells": [
  {
   "cell_type": "code",
   "execution_count": null,
   "metadata": {},
   "outputs": [],
   "source": [
    "import pandas as pd\n",
    "import numpy as np\n",
    "import matplotlib.pyplot as plt\n",
    "import seaborn as sns\n",
    "from scipy import stats"
   ]
  },
  {
   "cell_type": "code",
   "execution_count": null,
   "metadata": {},
   "outputs": [],
   "source": [
    "# Import Data\n",
    "data_raw = pd.read_csv(\"gym_members_exercise_tracking.csv\")\n",
    "data_raw.info()\n",
    "data_raw.head()"
   ]
  },
  {
   "cell_type": "code",
   "execution_count": null,
   "metadata": {},
   "outputs": [],
   "source": [
    "### Preprocess Data\n",
    "data = data_raw.copy()\n",
    "\n",
    "# dtypes\n",
    "data['Experience_Level'] = data['Experience_Level'].astype(str)\n",
    "data['Workout_Frequency (days/week)'] = data['Workout_Frequency (days/week)'].astype(str)\n",
    "\n",
    "# Make water intake binary\n",
    "data['Water_intake_binary'] = (data['Water_Intake (liters)'] > 2).astype(int)\n",
    "data.drop(columns=[\"Water_Intake (liters)\"],inplace=True)\n",
    "\n",
    "# change column names and make column names lower case\n",
    "data.columns = ['Age','Gender','Weight_kg','Height_m','Max_BPM','Avg_BPM','Resting_BPM','Session_Duration_hrs','Calories_Burned','Workout_Type','Fat_Percentage','Water_Intake_lts','Workout_Frequency_days_per_week','Experience_Level','BMI']\n",
    "data.columns = map(str.lower, data.columns)\n",
    "\n",
    "# print\n",
    "data.info()"
   ]
  },
  {
   "cell_type": "code",
   "execution_count": null,
   "metadata": {},
   "outputs": [],
   "source": [
    "data.head()"
   ]
  },
  {
   "cell_type": "code",
   "execution_count": null,
   "metadata": {},
   "outputs": [],
   "source": [
    "numeric_variables = ['age','weight_kg','height_m','max_bpm','avg_bpm','resting_bpm','session_duration_hrs','calories_burned','fat_percentage']"
   ]
  },
  {
   "cell_type": "code",
   "execution_count": null,
   "metadata": {},
   "outputs": [],
   "source": [
    "sns.pairplot(data[numeric_variables], diag_kind='kde', corner=True)\n",
    "plt.show()"
   ]
  },
  {
   "cell_type": "code",
   "execution_count": null,
   "metadata": {},
   "outputs": [],
   "source": [
    "corr_mat = data[numeric_variables].corr()\n",
    "plt.figure(figsize=(8, 6))  # Adjust the figure size as needed\n",
    "sns.heatmap(corr_mat, annot=True, cmap='coolwarm', vmin=-1, vmax=1, center=0, square=True, linewidths=0.5)\n",
    "plt.title('Correlation Plot')\n",
    "plt.show()"
   ]
  },
  {
   "cell_type": "code",
   "execution_count": null,
   "metadata": {},
   "outputs": [],
   "source": [
    "fig, axs = plt.subplots(5,2, figsize=(12, 14))\n",
    "axs[0,0].hist(data['age'],density=True,alpha=0.6,color='b',edgecolor=\"black\")\n",
    "axs[0,0].set_title(\"Hist of Age\")\n",
    "axs[0,1].hist(data['weight_kg'],density=True,alpha=0.6,color='b',edgecolor=\"black\")\n",
    "axs[0,1].set_title(\"Hist of Weight (kg)\")\n",
    "axs[1,0].hist(data['height_m'],density=True,alpha=0.6,color='b',edgecolor=\"black\")\n",
    "axs[1,0].set_title(\"Hist of Height (m)\")\n",
    "axs[1,1].hist(data['fat_percentage'],bins=10,density=True,alpha=0.6,color='b',edgecolor=\"black\")\n",
    "axs[1,1].set_title(\"Hist Fat Percentage\")\n",
    "axs[2,0].hist(data['session_duration_hrs'],density=True,alpha=0.6,color='b',edgecolor=\"black\")\n",
    "axs[2,0].set_title(\"Hist of Session duration hrs\")\n",
    "axs[2,1].hist(data['max_bpm'],density=True,alpha=0.6,color='b',edgecolor=\"black\")\n",
    "axs[2,1].set_title(\"Hist of Max BPM\")\n",
    "axs[3,0].hist(data['avg_bpm'],density=True,alpha=0.6,color='b',edgecolor=\"black\")\n",
    "axs[3,0].set_title(\"Hist of Avg. BPM\")\n",
    "axs[3,1].hist(data['resting_bpm'],density=True,alpha=0.6,color='b',edgecolor=\"black\")\n",
    "axs[3,1].set_title(\"Hist of Resting BPM\")\n",
    "axs[4,0].hist(data['calories_burned'],density=True,alpha=0.6,color='b',edgecolor=\"black\")\n",
    "axs[4,0].set_title(\"Hist of Calories Burned\")\n",
    "axs[4,1].axis(\"off\")\n",
    "plt.tight_layout(pad=2.0)\n"
   ]
  },
  {
   "cell_type": "code",
   "execution_count": null,
   "metadata": {},
   "outputs": [],
   "source": [
    "fig, axs = plt.subplots(5,2, figsize=(12, 14))\n",
    "axs[0,0].boxplot(data['age'],vert=True, patch_artist=True,medianprops=dict(color=\"black\"))\n",
    "axs[0,0].set_title(\"Boxplot of Age\")\n",
    "axs[0,1].boxplot(data['weight_kg'],vert=True, patch_artist=True,medianprops=dict(color=\"black\"))\n",
    "axs[0,1].set_title(\"Boxplot of Weight (kg)\")\n",
    "axs[1,0].boxplot(data['height_m'],vert=True, patch_artist=True,medianprops=dict(color=\"black\"))\n",
    "axs[1,0].set_title(\"Boxplot of Height (m)\")\n",
    "axs[1,1].boxplot(data['fat_percentage'],vert=True, patch_artist=True,medianprops=dict(color=\"black\"))\n",
    "axs[1,1].set_title(\"Boxplot Fat Percentage\")\n",
    "axs[2,0].boxplot(data['session_duration_hrs'],vert=True, patch_artist=True,medianprops=dict(color=\"black\"))\n",
    "axs[2,0].set_title(\"Boxplot of Session duration hrs\")\n",
    "axs[2,1].boxplot(data['max_bpm'],vert=True, patch_artist=True,medianprops=dict(color=\"black\"))\n",
    "axs[2,1].set_title(\"Boxplot of Max BPM\")\n",
    "axs[3,0].boxplot(data['avg_bpm'],vert=True, patch_artist=True,medianprops=dict(color=\"black\"))\n",
    "axs[3,0].set_title(\"Boxplot of Avg. BPM\")\n",
    "axs[3,1].boxplot(data['resting_bpm'],vert=True, patch_artist=True,medianprops=dict(color=\"black\"))\n",
    "axs[3,1].set_title(\"Boxplot of Resting BPM\")\n",
    "axs[4,0].boxplot(data['calories_burned'],vert=True, patch_artist=True,medianprops=dict(color=\"black\"))\n",
    "axs[4,0].set_title(\"Boxplot of Calories Burned\")\n",
    "axs[4,1].axis(\"off\")\n",
    "plt.tight_layout(pad=2.0)"
   ]
  },
  {
   "cell_type": "markdown",
   "metadata": {},
   "source": [
    "The Boxplot of Age and Session duration look very symmetric only by looking.\n",
    "The Height and the Fat % are both asymmetrics.\n",
    "The 3 about BPM looks kind of asymmetric.\n",
    "The boxplots Weight variables and the burned calories boths have outliers in them."
   ]
  },
  {
   "cell_type": "code",
   "execution_count": null,
   "metadata": {},
   "outputs": [],
   "source": [
    "for i in numeric_variables:\n",
    "    aux_skew = stats.skew(data[i])\n",
    "    print(f\"Skewness of {i} : {aux_skew}\")"
   ]
  },
  {
   "cell_type": "markdown",
   "metadata": {},
   "source": [
    "The mix between boxplot and skewness tell us the next thing about our variables:\n",
    "The Age, Max BPM, Avg. BPM, Resting BPM and session duration are all symmetric in the data.\n",
    "For Weight, Height and calorie burned are moderately swkewed. The 3 variables have a long tails on the right side. (The outliers that we detected in the boxplot.)"
   ]
  }
 ],
 "metadata": {
  "kernelspec": {
   "display_name": "pyomo_env",
   "language": "python",
   "name": "python3"
  },
  "language_info": {
   "codemirror_mode": {
    "name": "ipython",
    "version": 3
   },
   "file_extension": ".py",
   "mimetype": "text/x-python",
   "name": "python",
   "nbconvert_exporter": "python",
   "pygments_lexer": "ipython3",
   "version": "3.11.10"
  }
 },
 "nbformat": 4,
 "nbformat_minor": 2
}
